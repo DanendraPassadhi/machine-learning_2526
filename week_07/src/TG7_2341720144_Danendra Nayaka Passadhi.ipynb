{
 "cells": [
  {
   "cell_type": "markdown",
   "id": "505d6662",
   "metadata": {},
   "source": [
    "# Melakukan run program pada PyDroid3 dengan hasil berikut"
   ]
  },
  {
   "cell_type": "markdown",
   "id": "43beb41f",
   "metadata": {},
   "source": [
    "![PyDroid3](../image/Screenshot.jpg)"
   ]
  }
 ],
 "metadata": {
  "language_info": {
   "name": "python"
  }
 },
 "nbformat": 4,
 "nbformat_minor": 5
}
