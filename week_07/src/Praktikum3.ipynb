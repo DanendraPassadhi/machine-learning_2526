{
 "cells": [
  {
   "cell_type": "code",
   "execution_count": 1,
   "id": "b20c23f1",
   "metadata": {},
   "outputs": [
    {
     "name": "stdout",
     "output_type": "stream",
     "text": [
      "Collecting hnswlib\n",
      "  Downloading hnswlib-0.8.0.tar.gz (36 kB)\n",
      "  Installing build dependencies: started\n",
      "  Installing build dependencies: finished with status 'done'\n",
      "  Getting requirements to build wheel: started\n",
      "  Getting requirements to build wheel: finished with status 'done'\n",
      "  Preparing metadata (pyproject.toml): started\n",
      "  Preparing metadata (pyproject.toml): finished with status 'done'\n",
      "Requirement already satisfied: numpy in c:\\users\\user\\anaconda3\\lib\\site-packages (from hnswlib) (2.1.3)\n",
      "Building wheels for collected packages: hnswlib\n",
      "  Building wheel for hnswlib (pyproject.toml): started\n",
      "  Building wheel for hnswlib (pyproject.toml): finished with status 'done'\n",
      "  Created wheel for hnswlib: filename=hnswlib-0.8.0-cp313-cp313-win_amd64.whl size=160830 sha256=8027af747efff1f78198ece6cc273e958f566510af1b9959661f4090a1ea7235\n",
      "  Stored in directory: c:\\users\\user\\appdata\\local\\pip\\cache\\wheels\\35\\04\\88\\b31765a4b9957705e18065db4657e61fc8da54f50e3ef0b67e\n",
      "Successfully built hnswlib\n",
      "Installing collected packages: hnswlib\n",
      "Successfully installed hnswlib-0.8.0\n"
     ]
    }
   ],
   "source": [
    "!pip install hnswlib"
   ]
  },
  {
   "cell_type": "code",
   "execution_count": 2,
   "id": "7c0d7e84",
   "metadata": {},
   "outputs": [
    {
     "name": "stdout",
     "output_type": "stream",
     "text": [
      "=== Exact NN ===\n",
      "Indices: [[892 935 904 425 786]]\n",
      "Distances: [[0.00775365 0.01897463 0.02750072 0.02788769 0.02852107]]\n",
      "Waktu: 0.4275374412536621 detik\n",
      "\n",
      "=== HNSW ===\n",
      "Indices: [[892 935 904 425 786]]\n",
      "Distances: [[6.0119095e-05 3.6003659e-04 7.5628981e-04 7.7772350e-04 8.1345171e-04]]\n",
      "Waktu: 0.0001761913299560547 detik\n"
     ]
    }
   ],
   "source": [
    "import hnswlib\n",
    "import numpy as np\n",
    "import time\n",
    "from sklearn.neighbors import NearestNeighbors\n",
    "\n",
    "# ===========================\n",
    "# 1. Buat data 2D acak\n",
    "# ===========================\n",
    "num_elements = 1000\n",
    "dim = 2\n",
    "data = np.random.random((num_elements, dim)).astype(np.float32)\n",
    "\n",
    "# Query point\n",
    "query = np.array([[0.5, 0.5]], dtype=np.float32)\n",
    "k = 5  # cari 5 tetangga terdekat\n",
    "\n",
    "# ===========================\n",
    "# 2. Exact NN (Brute Force)\n",
    "# ===========================\n",
    "nn = NearestNeighbors(n_neighbors=k, algorithm='brute', metric='euclidean')\n",
    "nn.fit(data)\n",
    "\n",
    "start = time.time()\n",
    "distances, indices = nn.kneighbors(query)\n",
    "end = time.time()\n",
    "\n",
    "print(\"=== Exact NN ===\")\n",
    "print(\"Indices:\", indices)\n",
    "print(\"Distances:\", distances)\n",
    "print(\"Waktu:\", end - start, \"detik\")\n",
    "\n",
    "# ===========================\n",
    "# 3. HNSW\n",
    "# ===========================\n",
    "# Inisialisasi index HNSW\n",
    "p = hnswlib.Index(space='l2', dim=dim)  \n",
    "\n",
    "# Ukuran maksimum elemen yang bisa ditampung\n",
    "p.init_index(max_elements=num_elements, ef_construction=100, M=16)\n",
    "\n",
    "# Tambahkan data\n",
    "p.add_items(data)\n",
    "\n",
    "# Set parameter pencarian\n",
    "p.set_ef(50)   # tradeoff speed vs accuracy\n",
    "\n",
    "start = time.time()\n",
    "labels, distances = p.knn_query(query, k=k)\n",
    "end = time.time()\n",
    "\n",
    "print(\"\\n=== HNSW ===\")\n",
    "print(\"Indices:\", labels)\n",
    "print(\"Distances:\", distances)\n",
    "print(\"Waktu:\", end - start, \"detik\")\n"
   ]
  }
 ],
 "metadata": {
  "kernelspec": {
   "display_name": "base",
   "language": "python",
   "name": "python3"
  },
  "language_info": {
   "codemirror_mode": {
    "name": "ipython",
    "version": 3
   },
   "file_extension": ".py",
   "mimetype": "text/x-python",
   "name": "python",
   "nbconvert_exporter": "python",
   "pygments_lexer": "ipython3",
   "version": "3.13.0"
  }
 },
 "nbformat": 4,
 "nbformat_minor": 5
}
