{
 "cells": [
  {
   "cell_type": "markdown",
   "id": "4c8f6400",
   "metadata": {},
   "source": [
    "# Bagian 1"
   ]
  },
  {
   "cell_type": "markdown",
   "id": "bb62fff8",
   "metadata": {},
   "source": [
    "## Instalasi library PyPREP"
   ]
  },
  {
   "cell_type": "code",
   "execution_count": 1,
   "id": "e8e6d6e0",
   "metadata": {},
   "outputs": [
    {
     "name": "stdout",
     "output_type": "stream",
     "text": [
      "Collecting PyPREP\n",
      "  Downloading pyprep-0.5.0-py3-none-any.whl.metadata (7.3 kB)\n",
      "Collecting mne>=1.3.0 (from PyPREP)\n",
      "  Downloading mne-1.10.1-py3-none-any.whl.metadata (20 kB)\n",
      "Requirement already satisfied: numpy>=1.20.2 in c:\\users\\user\\anaconda3\\lib\\site-packages (from PyPREP) (2.1.3)\n",
      "Requirement already satisfied: psutil>=5.4.3 in c:\\users\\user\\anaconda3\\lib\\site-packages (from PyPREP) (5.9.0)\n",
      "Requirement already satisfied: scipy>=1.6.3 in c:\\users\\user\\anaconda3\\lib\\site-packages (from PyPREP) (1.15.3)\n",
      "Requirement already satisfied: decorator in c:\\users\\user\\anaconda3\\lib\\site-packages (from mne>=1.3.0->PyPREP) (5.1.1)\n",
      "Requirement already satisfied: jinja2 in c:\\users\\user\\anaconda3\\lib\\site-packages (from mne>=1.3.0->PyPREP) (3.1.6)\n",
      "Requirement already satisfied: lazy-loader>=0.3 in c:\\users\\user\\anaconda3\\lib\\site-packages (from mne>=1.3.0->PyPREP) (0.4)\n",
      "Requirement already satisfied: matplotlib>=3.7 in c:\\users\\user\\anaconda3\\lib\\site-packages (from mne>=1.3.0->PyPREP) (3.10.0)\n",
      "Requirement already satisfied: packaging in c:\\users\\user\\anaconda3\\lib\\site-packages (from mne>=1.3.0->PyPREP) (24.2)\n",
      "Collecting pooch>=1.5 (from mne>=1.3.0->PyPREP)\n",
      "  Downloading pooch-1.8.2-py3-none-any.whl.metadata (10 kB)\n",
      "Requirement already satisfied: tqdm in c:\\users\\user\\anaconda3\\lib\\site-packages (from mne>=1.3.0->PyPREP) (4.67.1)\n",
      "Requirement already satisfied: contourpy>=1.0.1 in c:\\users\\user\\anaconda3\\lib\\site-packages (from matplotlib>=3.7->mne>=1.3.0->PyPREP) (1.3.1)\n",
      "Requirement already satisfied: cycler>=0.10 in c:\\users\\user\\anaconda3\\lib\\site-packages (from matplotlib>=3.7->mne>=1.3.0->PyPREP) (0.11.0)\n",
      "Requirement already satisfied: fonttools>=4.22.0 in c:\\users\\user\\anaconda3\\lib\\site-packages (from matplotlib>=3.7->mne>=1.3.0->PyPREP) (4.55.3)\n",
      "Requirement already satisfied: kiwisolver>=1.3.1 in c:\\users\\user\\anaconda3\\lib\\site-packages (from matplotlib>=3.7->mne>=1.3.0->PyPREP) (1.4.8)\n",
      "Requirement already satisfied: pillow>=8 in c:\\users\\user\\anaconda3\\lib\\site-packages (from matplotlib>=3.7->mne>=1.3.0->PyPREP) (11.1.0)\n",
      "Requirement already satisfied: pyparsing>=2.3.1 in c:\\users\\user\\anaconda3\\lib\\site-packages (from matplotlib>=3.7->mne>=1.3.0->PyPREP) (3.2.0)\n",
      "Requirement already satisfied: python-dateutil>=2.7 in c:\\users\\user\\anaconda3\\lib\\site-packages (from matplotlib>=3.7->mne>=1.3.0->PyPREP) (2.9.0.post0)\n",
      "Requirement already satisfied: platformdirs>=2.5.0 in c:\\users\\user\\anaconda3\\lib\\site-packages (from pooch>=1.5->mne>=1.3.0->PyPREP) (4.3.7)\n",
      "Requirement already satisfied: requests>=2.19.0 in c:\\users\\user\\anaconda3\\lib\\site-packages (from pooch>=1.5->mne>=1.3.0->PyPREP) (2.32.3)\n",
      "Requirement already satisfied: six>=1.5 in c:\\users\\user\\anaconda3\\lib\\site-packages (from python-dateutil>=2.7->matplotlib>=3.7->mne>=1.3.0->PyPREP) (1.17.0)\n",
      "Requirement already satisfied: charset-normalizer<4,>=2 in c:\\users\\user\\anaconda3\\lib\\site-packages (from requests>=2.19.0->pooch>=1.5->mne>=1.3.0->PyPREP) (3.3.2)\n",
      "Requirement already satisfied: idna<4,>=2.5 in c:\\users\\user\\anaconda3\\lib\\site-packages (from requests>=2.19.0->pooch>=1.5->mne>=1.3.0->PyPREP) (3.7)\n",
      "Requirement already satisfied: urllib3<3,>=1.21.1 in c:\\users\\user\\anaconda3\\lib\\site-packages (from requests>=2.19.0->pooch>=1.5->mne>=1.3.0->PyPREP) (2.3.0)\n",
      "Requirement already satisfied: certifi>=2017.4.17 in c:\\users\\user\\anaconda3\\lib\\site-packages (from requests>=2.19.0->pooch>=1.5->mne>=1.3.0->PyPREP) (2025.4.26)\n",
      "Requirement already satisfied: MarkupSafe>=2.0 in c:\\users\\user\\anaconda3\\lib\\site-packages (from jinja2->mne>=1.3.0->PyPREP) (3.0.2)\n",
      "Requirement already satisfied: colorama in c:\\users\\user\\anaconda3\\lib\\site-packages (from tqdm->mne>=1.3.0->PyPREP) (0.4.6)\n",
      "Downloading pyprep-0.5.0-py3-none-any.whl (34 kB)\n",
      "Downloading mne-1.10.1-py3-none-any.whl (7.4 MB)\n",
      "   ---------------------------------------- 0.0/7.4 MB ? eta -:--:--\n",
      "   - -------------------------------------- 0.3/7.4 MB ? eta -:--:--\n",
      "   ---- ----------------------------------- 0.8/7.4 MB 2.2 MB/s eta 0:00:04\n",
      "   ------- -------------------------------- 1.3/7.4 MB 2.2 MB/s eta 0:00:03\n",
      "   -------- ------------------------------- 1.6/7.4 MB 2.2 MB/s eta 0:00:03\n",
      "   ----------- ---------------------------- 2.1/7.4 MB 2.2 MB/s eta 0:00:03\n",
      "   -------------- ------------------------- 2.6/7.4 MB 2.2 MB/s eta 0:00:03\n",
      "   ---------------- ----------------------- 3.1/7.4 MB 2.2 MB/s eta 0:00:02\n",
      "   ------------------ --------------------- 3.4/7.4 MB 2.2 MB/s eta 0:00:02\n",
      "   --------------------- ------------------ 3.9/7.4 MB 2.2 MB/s eta 0:00:02\n",
      "   ------------------------ --------------- 4.5/7.4 MB 2.2 MB/s eta 0:00:02\n",
      "   ------------------------- -------------- 4.7/7.4 MB 2.2 MB/s eta 0:00:02\n",
      "   ---------------------------- ----------- 5.2/7.4 MB 2.2 MB/s eta 0:00:01\n",
      "   ------------------------------- -------- 5.8/7.4 MB 2.2 MB/s eta 0:00:01\n",
      "   ----------------------------------- ---- 6.6/7.4 MB 2.3 MB/s eta 0:00:01\n",
      "   ---------------------------------------  7.3/7.4 MB 2.4 MB/s eta 0:00:01\n",
      "   ---------------------------------------- 7.4/7.4 MB 2.4 MB/s eta 0:00:00\n",
      "Downloading pooch-1.8.2-py3-none-any.whl (64 kB)\n",
      "Installing collected packages: pooch, mne, PyPREP\n",
      "\n",
      "   ---------------------------------------- 0/3 [pooch]\n",
      "   ------------- -------------------------- 1/3 [mne]\n",
      "   ------------- -------------------------- 1/3 [mne]\n",
      "   ------------- -------------------------- 1/3 [mne]\n",
      "   ------------- -------------------------- 1/3 [mne]\n",
      "   ------------- -------------------------- 1/3 [mne]\n",
      "   ------------- -------------------------- 1/3 [mne]\n",
      "   ------------- -------------------------- 1/3 [mne]\n",
      "   ------------- -------------------------- 1/3 [mne]\n",
      "   ------------- -------------------------- 1/3 [mne]\n",
      "   ------------- -------------------------- 1/3 [mne]\n",
      "   ------------- -------------------------- 1/3 [mne]\n",
      "   ------------- -------------------------- 1/3 [mne]\n",
      "   ------------- -------------------------- 1/3 [mne]\n",
      "   ------------- -------------------------- 1/3 [mne]\n",
      "   ------------- -------------------------- 1/3 [mne]\n",
      "   ------------- -------------------------- 1/3 [mne]\n",
      "   ------------- -------------------------- 1/3 [mne]\n",
      "   ------------- -------------------------- 1/3 [mne]\n",
      "   ------------- -------------------------- 1/3 [mne]\n",
      "   ------------- -------------------------- 1/3 [mne]\n",
      "   ------------- -------------------------- 1/3 [mne]\n",
      "   ------------- -------------------------- 1/3 [mne]\n",
      "   ------------- -------------------------- 1/3 [mne]\n",
      "   ------------- -------------------------- 1/3 [mne]\n",
      "   ------------- -------------------------- 1/3 [mne]\n",
      "   ------------- -------------------------- 1/3 [mne]\n",
      "   ------------- -------------------------- 1/3 [mne]\n",
      "   ------------- -------------------------- 1/3 [mne]\n",
      "   ------------- -------------------------- 1/3 [mne]\n",
      "   ------------- -------------------------- 1/3 [mne]\n",
      "   ------------- -------------------------- 1/3 [mne]\n",
      "   ---------------------------------------- 3/3 [PyPREP]\n",
      "\n",
      "Successfully installed PyPREP-0.5.0 mne-1.10.1 pooch-1.8.2\n"
     ]
    }
   ],
   "source": [
    "!pip install PyPREP"
   ]
  },
  {
   "cell_type": "markdown",
   "id": "20cab92c",
   "metadata": {},
   "source": [
    "**Kegunaan Library PyPREP:**\n",
    "\n",
    "- Menghapus Noise Saluran Listrik (Line Noise): Secara efektif menghilangkan gangguan frekuensi 50 Hz atau 60 Hz yang berasal dari jaringan listrik.\n",
    "- Mendeteksi dan Menginterpolasi Kanal yang Buruk: Mengidentifikasi kanal (elektroda) yang datanya rusak atau tidak valid dan memperbaikinya dengan menginterpolasi data dari kanal-kanal di sekitarnya.\n",
    "- Menghitung Referensi yang Kuat: Membuat referensi sinyal yang lebih stabil dan tidak terpengaruh oleh kanal yang buruk, sehingga meningkatkan kualitas sinyal EEG secara keseluruhan."
   ]
  },
  {
   "cell_type": "markdown",
   "id": "cdd4baae",
   "metadata": {},
   "source": [
    "## Instalasi library Scipy"
   ]
  },
  {
   "cell_type": "code",
   "execution_count": 5,
   "id": "8f43176c",
   "metadata": {},
   "outputs": [
    {
     "name": "stdout",
     "output_type": "stream",
     "text": [
      "Requirement already satisfied: Scipy in c:\\users\\user\\anaconda3\\lib\\site-packages (1.15.3)\n",
      "Requirement already satisfied: numpy<2.5,>=1.23.5 in c:\\users\\user\\anaconda3\\lib\\site-packages (from Scipy) (2.1.3)\n"
     ]
    }
   ],
   "source": [
    "!pip install Scipy"
   ]
  },
  {
   "cell_type": "markdown",
   "id": "f26a4d78",
   "metadata": {},
   "source": [
    "**Kegunaan Library Scipy:**\n",
    "\n",
    "- Optimisasi dan Pencarian Akar (Optimization and Root Finding): Menyelesaikan masalah optimisasi, seperti mencari nilai minimum atau maksimum dari sebuah fungsi.\n",
    "- Aljabar Linear Lanjut: Menyediakan fungsi-fungsi aljabar linear yang lebih canggih dibandingkan NumPy.\n",
    "- Integrasi Numerik: Menghitung integral dari suatu fungsi secara numerik.\n",
    "- Pemrosesan Sinyal dan Gambar (Signal and Image Processing): Menawarkan berbagai fungsi untuk memfilter, mentransformasi, dan menganalisis sinyal atau gambar.\n",
    "- Statistika: Menyediakan koleksi fungsi dan distribusi statistik yang sangat lengkap.\n",
    "- Interpolasi: Memperkirakan nilai-nilai di antara titik-titik data yang diketahui."
   ]
  },
  {
   "cell_type": "markdown",
   "id": "20068b47",
   "metadata": {},
   "source": [
    "## Instalasi library wandb"
   ]
  },
  {
   "cell_type": "code",
   "execution_count": 6,
   "id": "b230aa27",
   "metadata": {},
   "outputs": [
    {
     "name": "stdout",
     "output_type": "stream",
     "text": [
      "Requirement already satisfied: wandb in c:\\users\\user\\anaconda3\\lib\\site-packages (0.21.3)\n",
      "Requirement already satisfied: click>=8.0.1 in c:\\users\\user\\anaconda3\\lib\\site-packages (from wandb) (8.1.8)\n",
      "Requirement already satisfied: gitpython!=3.1.29,>=1.0.0 in c:\\users\\user\\anaconda3\\lib\\site-packages (from wandb) (3.1.43)\n",
      "Requirement already satisfied: packaging in c:\\users\\user\\anaconda3\\lib\\site-packages (from wandb) (24.2)\n",
      "Requirement already satisfied: platformdirs in c:\\users\\user\\anaconda3\\lib\\site-packages (from wandb) (4.3.7)\n",
      "Requirement already satisfied: protobuf!=4.21.0,!=5.28.0,<7,>=3.19.0 in c:\\users\\user\\anaconda3\\lib\\site-packages (from wandb) (5.29.3)\n",
      "Requirement already satisfied: pydantic<3 in c:\\users\\user\\anaconda3\\lib\\site-packages (from wandb) (2.10.3)\n",
      "Requirement already satisfied: pyyaml in c:\\users\\user\\anaconda3\\lib\\site-packages (from wandb) (6.0.2)\n",
      "Requirement already satisfied: requests<3,>=2.0.0 in c:\\users\\user\\anaconda3\\lib\\site-packages (from wandb) (2.32.3)\n",
      "Requirement already satisfied: sentry-sdk>=2.0.0 in c:\\users\\user\\anaconda3\\lib\\site-packages (from wandb) (2.37.0)\n",
      "Requirement already satisfied: typing-extensions<5,>=4.8 in c:\\users\\user\\anaconda3\\lib\\site-packages (from wandb) (4.12.2)\n",
      "Requirement already satisfied: annotated-types>=0.6.0 in c:\\users\\user\\anaconda3\\lib\\site-packages (from pydantic<3->wandb) (0.6.0)\n",
      "Requirement already satisfied: pydantic-core==2.27.1 in c:\\users\\user\\anaconda3\\lib\\site-packages (from pydantic<3->wandb) (2.27.1)\n",
      "Requirement already satisfied: charset-normalizer<4,>=2 in c:\\users\\user\\anaconda3\\lib\\site-packages (from requests<3,>=2.0.0->wandb) (3.3.2)\n",
      "Requirement already satisfied: idna<4,>=2.5 in c:\\users\\user\\anaconda3\\lib\\site-packages (from requests<3,>=2.0.0->wandb) (3.7)\n",
      "Requirement already satisfied: urllib3<3,>=1.21.1 in c:\\users\\user\\anaconda3\\lib\\site-packages (from requests<3,>=2.0.0->wandb) (2.3.0)\n",
      "Requirement already satisfied: certifi>=2017.4.17 in c:\\users\\user\\anaconda3\\lib\\site-packages (from requests<3,>=2.0.0->wandb) (2025.4.26)\n",
      "Requirement already satisfied: colorama in c:\\users\\user\\anaconda3\\lib\\site-packages (from click>=8.0.1->wandb) (0.4.6)\n",
      "Requirement already satisfied: gitdb<5,>=4.0.1 in c:\\users\\user\\anaconda3\\lib\\site-packages (from gitpython!=3.1.29,>=1.0.0->wandb) (4.0.7)\n",
      "Requirement already satisfied: smmap<5,>=3.0.1 in c:\\users\\user\\anaconda3\\lib\\site-packages (from gitdb<5,>=4.0.1->gitpython!=3.1.29,>=1.0.0->wandb) (4.0.0)\n"
     ]
    }
   ],
   "source": [
    "!pip install wandb"
   ]
  },
  {
   "cell_type": "markdown",
   "id": "5b819769",
   "metadata": {},
   "source": [
    "**Kegunaan Library wandb:**\n",
    "\n",
    "- Pelacakan Eksperimen (Experiment Tracking): Mencatat secara otomatis semua parameter, metrik (seperti akurasi dan loss), serta artefak (seperti model yang telah dilatih) selama proses pelatihan model ML.\n",
    "- Visualisasi Metrik: Menyediakan dasbor interaktif untuk memvisualisasikan metrik pelatihan secara real-time, memudahkan pemantauan kinerja model.\n",
    "- Manajemen Hyperparameter: Membantu dalam proses hyperparameter tuning dengan memungkinkan perbandingan yang mudah antara berbagai set hyperparameter.\n",
    "- Kolaborasi Tim: Memudahkan tim untuk berbagi hasil eksperimen, membandingkan model, dan mereproduksi pekerjaan satu sama lain.\n",
    "- Manajemen Model dan Dataset: Menyimpan versi model dan dataset yang berbeda, sehingga memudahkan pelacakan dan penggunaan kembali."
   ]
  },
  {
   "cell_type": "markdown",
   "id": "e27d58b8",
   "metadata": {},
   "source": [
    "## Instalasi library pyECG"
   ]
  },
  {
   "cell_type": "code",
   "execution_count": 5,
   "id": "4e629012",
   "metadata": {},
   "outputs": [
    {
     "name": "stdout",
     "output_type": "stream",
     "text": [
      "Collecting git+https://github.com/berndporr/py-ecg-detectors"
     ]
    },
    {
     "name": "stderr",
     "output_type": "stream",
     "text": [
      "  Running command git clone --filter=blob:none --quiet https://github.com/berndporr/py-ecg-detectors 'C:\\Users\\USER\\AppData\\Local\\Temp\\pip-req-build-zrh21_2l'\n",
      "  DEPRECATION: Building 'py-ecg-detectors' using the legacy setup.py bdist_wheel mechanism, which will be removed in a future version. pip 25.3 will enforce this behaviour change. A possible replacement is to use the standardized build interface by setting the `--use-pep517` option, (possibly combined with `--no-build-isolation`), or adding a `pyproject.toml` file to the source tree of 'py-ecg-detectors'. Discussion can be found at https://github.com/pypa/pip/issues/6334\n",
      "  DEPRECATION: Building 'gatspy' using the legacy setup.py bdist_wheel mechanism, which will be removed in a future version. pip 25.3 will enforce this behaviour change. A possible replacement is to use the standardized build interface by setting the `--use-pep517` option, (possibly combined with `--no-build-isolation`), or adding a `pyproject.toml` file to the source tree of 'gatspy'. Discussion can be found at https://github.com/pypa/pip/issues/6334\n"
     ]
    },
    {
     "name": "stdout",
     "output_type": "stream",
     "text": [
      "\n",
      "  Cloning https://github.com/berndporr/py-ecg-detectors to c:\\users\\user\\appdata\\local\\temp\\pip-req-build-zrh21_2l\n",
      "  Resolved https://github.com/berndporr/py-ecg-detectors to commit f39354cb686710f8e243e214b94fda0914fff656\n",
      "  Preparing metadata (setup.py): started\n",
      "  Preparing metadata (setup.py): finished with status 'done'\n",
      "Requirement already satisfied: numpy in c:\\users\\user\\anaconda3\\lib\\site-packages (from py-ecg-detectors==1.3.5) (2.1.3)\n",
      "Collecting pathlib2 (from py-ecg-detectors==1.3.5)\n",
      "  Downloading pathlib2-2.3.7.post1-py2.py3-none-any.whl.metadata (3.5 kB)\n",
      "Requirement already satisfied: scipy in c:\\users\\user\\anaconda3\\lib\\site-packages (from py-ecg-detectors==1.3.5) (1.15.3)\n",
      "Collecting gatspy (from py-ecg-detectors==1.3.5)\n",
      "  Downloading gatspy-0.3.tar.gz (554 kB)\n",
      "     ---------------------------------------- 0.0/554.5 kB ? eta -:--:--\n",
      "     ------------------ --------------------- 262.1/554.5 kB ? eta -:--:--\n",
      "     ---------------------------------------- 554.5/554.5 kB 2.1 MB/s  0:00:00\n",
      "  Preparing metadata (setup.py): started\n",
      "  Preparing metadata (setup.py): finished with status 'done'\n",
      "Requirement already satisfied: pywavelets in c:\\users\\user\\anaconda3\\lib\\site-packages (from py-ecg-detectors==1.3.5) (1.8.0)\n",
      "Requirement already satisfied: six in c:\\users\\user\\anaconda3\\lib\\site-packages (from pathlib2->py-ecg-detectors==1.3.5) (1.17.0)\n",
      "Downloading pathlib2-2.3.7.post1-py2.py3-none-any.whl (18 kB)\n",
      "Building wheels for collected packages: py-ecg-detectors, gatspy\n",
      "  Building wheel for py-ecg-detectors (setup.py): started\n",
      "  Building wheel for py-ecg-detectors (setup.py): finished with status 'done'\n",
      "  Created wheel for py-ecg-detectors: filename=py_ecg_detectors-1.3.5-py3-none-any.whl size=25651 sha256=fba863e41b5143e4e09ddde4c9e7207af4f1e17e06276bd39a8b670d5811d378\n",
      "  Stored in directory: C:\\Users\\USER\\AppData\\Local\\Temp\\pip-ephem-wheel-cache-dkai8lv5\\wheels\\f2\\1b\\81\\31f120fc534d81d80643facdbd431765ceebca8189e880331b\n",
      "  Building wheel for gatspy (setup.py): started\n",
      "  Building wheel for gatspy (setup.py): finished with status 'done'\n",
      "  Created wheel for gatspy: filename=gatspy-0.3-py3-none-any.whl size=43813 sha256=00219c3b29906cf5963f405cf56556128831e77eb2579e23ffd4d996a56d3f43\n",
      "  Stored in directory: c:\\users\\user\\appdata\\local\\pip\\cache\\wheels\\1a\\af\\6b\\f4442d2f82105ed9d773fe26fb2422f018f489d2bb5f87ecb4\n",
      "Successfully built py-ecg-detectors gatspy\n",
      "Installing collected packages: gatspy, pathlib2, py-ecg-detectors\n",
      "\n",
      "   ---------------------------------------- 0/3 [gatspy]\n",
      "   ---------------------------------------- 3/3 [py-ecg-detectors]\n",
      "\n",
      "Successfully installed gatspy-0.3 pathlib2-2.3.7.post1 py-ecg-detectors-1.3.5\n"
     ]
    }
   ],
   "source": [
    "!pip install git+https://github.com/berndporr/py-ecg-detectors"
   ]
  },
  {
   "cell_type": "markdown",
   "id": "875f255e",
   "metadata": {},
   "source": [
    "**Kegunaan Library pyECG:**\n",
    "\n",
    "- Deteksi Denyut Jantung (Heartbeat Detection): Mengidentifikasi puncak R (R-peaks), yang merupakan bagian paling menonjol dari sinyal ECG dan sesuai dengan detak jantung ventrikel.\n",
    "- Analisis Variabilitas Denyut Jantung (Heart Rate Variability - HRV): Menganalisis variasi waktu di antara detak jantung berturut-turut, yang merupakan indikator penting dari kesehatan jantung dan sistem saraf otonom.\n",
    "- Segmentasi Sinyal ECG: Membagi sinyal ECG menjadi komponen-komponen gelombangnya (seperti gelombang P, kompleks QRS, dan gelombang T).\n",
    "- Ekstraksi Fitur: Mengekstrak fitur-fitur penting dari sinyal ECG yang dapat digunakan untuk diagnosis medis atau penelitian."
   ]
  },
  {
   "cell_type": "markdown",
   "id": "09ef4581",
   "metadata": {},
   "source": [
    "# Bagian 2"
   ]
  },
  {
   "cell_type": "markdown",
   "id": "8881a966",
   "metadata": {},
   "source": [
    "1. **Berikan contoh tentang tidakan melanggar etika dan hukum tentang penggunaan kecerdasan buatan. Sertakan referensi yang digunakan.** <br>\n",
    "↪ Pelanggaran yang paling masif dilakukan dalam penggunaan AI adalah `plagiarisme`. Secara sederhana, plagiarisme adalah mengakui karya orang lain sebagai karya diri sendiri. Pelanggaran ini lebih banyak terjadi di karya tulis ilmiah.\n",
    "2. **Berikan contoh tentang dampak energi dan lingkungan terhadap pemanfaatan kecerdasan buatan dan bagaimana cara mengatasinya (Anda dapat memberikan pendapat pribadi). Sertakan referensi yang digunakan.** <br>\n",
    "↪ Pelatihan AI memerlukan energi sangat besar sehingga dapat melepaskan emisi karbon yang dapat memperparah perubahan iklim. Studi mengungkapkan bahwa pelatihan satu model bahasa besar seperti GPT-4 atau PaLM buatan Google dapat melepaskan sekitar 300 ton CO2 ke atmosfer. Angka ini setara dengan 360 kali penerbangan dari London menuju New York. <br>\n",
    "↪ Cara mengatasinya: <br>\n",
    "    - Jika dari segi teknis, institusi dapat menggunakan LLM yang sudah ada, alih-alih membuat model dari awal. Karena, proses pembuatan model baru membutuhkan energi yang besar. <br>\n",
    "    - Jika dari segi non teknis, kesadaran akan linkungan memiliki peran penting, sehingga institusi harus mengambil keputusan terbaik mengenai pemilihan model AI yang ramah lingkungan. <br><br>\n",
    "**Referensi:** https://theconversation.com/ai-generatif-membahayakan-lingkungan-bagaimana-cara-mengatasinya-214871"
   ]
  }
 ],
 "metadata": {
  "kernelspec": {
   "display_name": "base",
   "language": "python",
   "name": "python3"
  },
  "language_info": {
   "codemirror_mode": {
    "name": "ipython",
    "version": 3
   },
   "file_extension": ".py",
   "mimetype": "text/x-python",
   "name": "python",
   "nbconvert_exporter": "python",
   "pygments_lexer": "ipython3",
   "version": "3.13.5"
  }
 },
 "nbformat": 4,
 "nbformat_minor": 5
}
